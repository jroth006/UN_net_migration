{
 "cells": [
  {
   "cell_type": "code",
   "execution_count": 1,
   "metadata": {
    "collapsed": true
   },
   "outputs": [],
   "source": [
    "import pandas as pd\n",
    "import matplotlib as mpl\n",
    "import numpy as np\n",
    "import matplotlib.pyplot as plt"
   ]
  },
  {
   "cell_type": "code",
   "execution_count": 2,
   "metadata": {
    "collapsed": true
   },
   "outputs": [],
   "source": [
    "%matplotlib inline"
   ]
  },
  {
   "cell_type": "markdown",
   "metadata": {},
   "source": [
    ">Import data and skip the footnotes found in internet use."
   ]
  },
  {
   "cell_type": "code",
   "execution_count": 3,
   "metadata": {
    "collapsed": true
   },
   "outputs": [],
   "source": [
    "net_migration = pd.read_csv(\"/Users/Justin/Downloads/UNNetMigrationData.csv\")\n",
    "internet_use = pd.read_csv(\"/Users/Justin/Downloads/UNInternetData.csv\", nrows = 4495)"
   ]
  },
  {
   "cell_type": "code",
   "execution_count": 4,
   "metadata": {},
   "outputs": [
    {
     "data": {
      "text/html": [
       "<div>\n",
       "<style>\n",
       "    .dataframe thead tr:only-child th {\n",
       "        text-align: right;\n",
       "    }\n",
       "\n",
       "    .dataframe thead th {\n",
       "        text-align: left;\n",
       "    }\n",
       "\n",
       "    .dataframe tbody tr th {\n",
       "        vertical-align: top;\n",
       "    }\n",
       "</style>\n",
       "<table border=\"1\" class=\"dataframe\">\n",
       "  <thead>\n",
       "    <tr style=\"text-align: right;\">\n",
       "      <th></th>\n",
       "      <th>Country or Area</th>\n",
       "      <th>Year</th>\n",
       "      <th>Value</th>\n",
       "    </tr>\n",
       "  </thead>\n",
       "  <tbody>\n",
       "    <tr>\n",
       "      <th>0</th>\n",
       "      <td>Afghanistan</td>\n",
       "      <td>2012</td>\n",
       "      <td>473007</td>\n",
       "    </tr>\n",
       "    <tr>\n",
       "      <th>1</th>\n",
       "      <td>Afghanistan</td>\n",
       "      <td>2007</td>\n",
       "      <td>-677497</td>\n",
       "    </tr>\n",
       "    <tr>\n",
       "      <th>2</th>\n",
       "      <td>Afghanistan</td>\n",
       "      <td>2002</td>\n",
       "      <td>804120</td>\n",
       "    </tr>\n",
       "    <tr>\n",
       "      <th>3</th>\n",
       "      <td>Afghanistan</td>\n",
       "      <td>1997</td>\n",
       "      <td>-379474</td>\n",
       "    </tr>\n",
       "    <tr>\n",
       "      <th>4</th>\n",
       "      <td>Afghanistan</td>\n",
       "      <td>1992</td>\n",
       "      <td>2227474</td>\n",
       "    </tr>\n",
       "    <tr>\n",
       "      <th>5</th>\n",
       "      <td>Afghanistan</td>\n",
       "      <td>1987</td>\n",
       "      <td>-1484185</td>\n",
       "    </tr>\n",
       "  </tbody>\n",
       "</table>\n",
       "</div>"
      ],
      "text/plain": [
       "  Country or Area  Year    Value\n",
       "0     Afghanistan  2012   473007\n",
       "1     Afghanistan  2007  -677497\n",
       "2     Afghanistan  2002   804120\n",
       "3     Afghanistan  1997  -379474\n",
       "4     Afghanistan  1992  2227474\n",
       "5     Afghanistan  1987 -1484185"
      ]
     },
     "execution_count": 4,
     "metadata": {},
     "output_type": "execute_result"
    }
   ],
   "source": [
    "net_migration.head(6)"
   ]
  },
  {
   "cell_type": "code",
   "execution_count": 5,
   "metadata": {},
   "outputs": [
    {
     "data": {
      "text/html": [
       "<div>\n",
       "<style>\n",
       "    .dataframe thead tr:only-child th {\n",
       "        text-align: right;\n",
       "    }\n",
       "\n",
       "    .dataframe thead th {\n",
       "        text-align: left;\n",
       "    }\n",
       "\n",
       "    .dataframe tbody tr th {\n",
       "        vertical-align: top;\n",
       "    }\n",
       "</style>\n",
       "<table border=\"1\" class=\"dataframe\">\n",
       "  <thead>\n",
       "    <tr style=\"text-align: right;\">\n",
       "      <th></th>\n",
       "      <th>Country or Area</th>\n",
       "      <th>Year</th>\n",
       "      <th>Value</th>\n",
       "      <th>Value Footnotes</th>\n",
       "    </tr>\n",
       "  </thead>\n",
       "  <tbody>\n",
       "    <tr>\n",
       "      <th>0</th>\n",
       "      <td>Afghanistan</td>\n",
       "      <td>2014</td>\n",
       "      <td>6.390000</td>\n",
       "      <td>NaN</td>\n",
       "    </tr>\n",
       "    <tr>\n",
       "      <th>1</th>\n",
       "      <td>Afghanistan</td>\n",
       "      <td>2013</td>\n",
       "      <td>5.900000</td>\n",
       "      <td>NaN</td>\n",
       "    </tr>\n",
       "    <tr>\n",
       "      <th>2</th>\n",
       "      <td>Afghanistan</td>\n",
       "      <td>2012</td>\n",
       "      <td>5.454545</td>\n",
       "      <td>NaN</td>\n",
       "    </tr>\n",
       "    <tr>\n",
       "      <th>3</th>\n",
       "      <td>Afghanistan</td>\n",
       "      <td>2011</td>\n",
       "      <td>5.000000</td>\n",
       "      <td>NaN</td>\n",
       "    </tr>\n",
       "    <tr>\n",
       "      <th>4</th>\n",
       "      <td>Afghanistan</td>\n",
       "      <td>2010</td>\n",
       "      <td>4.000000</td>\n",
       "      <td>NaN</td>\n",
       "    </tr>\n",
       "    <tr>\n",
       "      <th>5</th>\n",
       "      <td>Afghanistan</td>\n",
       "      <td>2009</td>\n",
       "      <td>3.550000</td>\n",
       "      <td>NaN</td>\n",
       "    </tr>\n",
       "  </tbody>\n",
       "</table>\n",
       "</div>"
      ],
      "text/plain": [
       "  Country or Area  Year     Value  Value Footnotes\n",
       "0     Afghanistan  2014  6.390000              NaN\n",
       "1     Afghanistan  2013  5.900000              NaN\n",
       "2     Afghanistan  2012  5.454545              NaN\n",
       "3     Afghanistan  2011  5.000000              NaN\n",
       "4     Afghanistan  2010  4.000000              NaN\n",
       "5     Afghanistan  2009  3.550000              NaN"
      ]
     },
     "execution_count": 5,
     "metadata": {},
     "output_type": "execute_result"
    }
   ],
   "source": [
    "internet_use.head(6)"
   ]
  },
  {
   "cell_type": "code",
   "execution_count": 6,
   "metadata": {},
   "outputs": [
    {
     "data": {
      "text/plain": [
       "pandas.core.frame.DataFrame"
      ]
     },
     "execution_count": 6,
     "metadata": {},
     "output_type": "execute_result"
    }
   ],
   "source": [
    "type(net_migration)"
   ]
  },
  {
   "cell_type": "code",
   "execution_count": 7,
   "metadata": {},
   "outputs": [
    {
     "data": {
      "text/plain": [
       "pandas.core.frame.DataFrame"
      ]
     },
     "execution_count": 7,
     "metadata": {},
     "output_type": "execute_result"
    }
   ],
   "source": [
    "type(internet_use)"
   ]
  },
  {
   "cell_type": "markdown",
   "metadata": {},
   "source": [
    ">Change column names for both dataframes"
   ]
  },
  {
   "cell_type": "code",
   "execution_count": 8,
   "metadata": {
    "collapsed": true
   },
   "outputs": [],
   "source": [
    "net_migration.columns = ('Country','Year','Net_Migration')"
   ]
  },
  {
   "cell_type": "code",
   "execution_count": 9,
   "metadata": {
    "collapsed": true
   },
   "outputs": [],
   "source": [
    "internet_use.columns = ('Country','Year','Internet_Users_Pct','Extra')"
   ]
  },
  {
   "cell_type": "markdown",
   "metadata": {},
   "source": [
    ">Deleting footnote reference column"
   ]
  },
  {
   "cell_type": "code",
   "execution_count": 10,
   "metadata": {
    "collapsed": true
   },
   "outputs": [],
   "source": [
    "del internet_use['Extra']"
   ]
  },
  {
   "cell_type": "markdown",
   "metadata": {},
   "source": [
    ">Merging net migration and internet use data based on Country and Year"
   ]
  },
  {
   "cell_type": "code",
   "execution_count": 11,
   "metadata": {
    "collapsed": true
   },
   "outputs": [],
   "source": [
    "df = pd.merge(net_migration, internet_use, on=['Country', 'Year'])"
   ]
  },
  {
   "cell_type": "code",
   "execution_count": 12,
   "metadata": {},
   "outputs": [
    {
     "data": {
      "text/html": [
       "<div>\n",
       "<style>\n",
       "    .dataframe thead tr:only-child th {\n",
       "        text-align: right;\n",
       "    }\n",
       "\n",
       "    .dataframe thead th {\n",
       "        text-align: left;\n",
       "    }\n",
       "\n",
       "    .dataframe tbody tr th {\n",
       "        vertical-align: top;\n",
       "    }\n",
       "</style>\n",
       "<table border=\"1\" class=\"dataframe\">\n",
       "  <thead>\n",
       "    <tr style=\"text-align: right;\">\n",
       "      <th></th>\n",
       "      <th>Country</th>\n",
       "      <th>Year</th>\n",
       "      <th>Net_Migration</th>\n",
       "      <th>Internet_Users_Pct</th>\n",
       "    </tr>\n",
       "  </thead>\n",
       "  <tbody>\n",
       "    <tr>\n",
       "      <th>0</th>\n",
       "      <td>Afghanistan</td>\n",
       "      <td>2012</td>\n",
       "      <td>473007</td>\n",
       "      <td>5.454545</td>\n",
       "    </tr>\n",
       "    <tr>\n",
       "      <th>1</th>\n",
       "      <td>Afghanistan</td>\n",
       "      <td>2007</td>\n",
       "      <td>-677497</td>\n",
       "      <td>1.900000</td>\n",
       "    </tr>\n",
       "    <tr>\n",
       "      <th>2</th>\n",
       "      <td>Afghanistan</td>\n",
       "      <td>2002</td>\n",
       "      <td>804120</td>\n",
       "      <td>0.004561</td>\n",
       "    </tr>\n",
       "    <tr>\n",
       "      <th>3</th>\n",
       "      <td>Albania</td>\n",
       "      <td>2012</td>\n",
       "      <td>-91750</td>\n",
       "      <td>54.655959</td>\n",
       "    </tr>\n",
       "    <tr>\n",
       "      <th>4</th>\n",
       "      <td>Albania</td>\n",
       "      <td>2007</td>\n",
       "      <td>-252926</td>\n",
       "      <td>15.036115</td>\n",
       "    </tr>\n",
       "  </tbody>\n",
       "</table>\n",
       "</div>"
      ],
      "text/plain": [
       "       Country  Year  Net_Migration  Internet_Users_Pct\n",
       "0  Afghanistan  2012         473007            5.454545\n",
       "1  Afghanistan  2007        -677497            1.900000\n",
       "2  Afghanistan  2002         804120            0.004561\n",
       "3      Albania  2012         -91750           54.655959\n",
       "4      Albania  2007        -252926           15.036115"
      ]
     },
     "execution_count": 12,
     "metadata": {},
     "output_type": "execute_result"
    }
   ],
   "source": [
    "df.head(n=5)"
   ]
  },
  {
   "cell_type": "code",
   "execution_count": 13,
   "metadata": {
    "scrolled": true
   },
   "outputs": [
    {
     "data": {
      "text/html": [
       "<div>\n",
       "<style>\n",
       "    .dataframe thead tr:only-child th {\n",
       "        text-align: right;\n",
       "    }\n",
       "\n",
       "    .dataframe thead th {\n",
       "        text-align: left;\n",
       "    }\n",
       "\n",
       "    .dataframe tbody tr th {\n",
       "        vertical-align: top;\n",
       "    }\n",
       "</style>\n",
       "<table border=\"1\" class=\"dataframe\">\n",
       "  <thead>\n",
       "    <tr style=\"text-align: right;\">\n",
       "      <th></th>\n",
       "      <th>Country</th>\n",
       "      <th>Year</th>\n",
       "      <th>Net_Migration</th>\n",
       "      <th>Internet_Users_Pct</th>\n",
       "    </tr>\n",
       "  </thead>\n",
       "  <tbody>\n",
       "    <tr>\n",
       "      <th>710</th>\n",
       "      <td>Zambia</td>\n",
       "      <td>1997</td>\n",
       "      <td>79445</td>\n",
       "      <td>0.009330</td>\n",
       "    </tr>\n",
       "    <tr>\n",
       "      <th>711</th>\n",
       "      <td>Zimbabwe</td>\n",
       "      <td>2012</td>\n",
       "      <td>-219922</td>\n",
       "      <td>17.090000</td>\n",
       "    </tr>\n",
       "    <tr>\n",
       "      <th>712</th>\n",
       "      <td>Zimbabwe</td>\n",
       "      <td>2007</td>\n",
       "      <td>-307650</td>\n",
       "      <td>10.850000</td>\n",
       "    </tr>\n",
       "    <tr>\n",
       "      <th>713</th>\n",
       "      <td>Zimbabwe</td>\n",
       "      <td>2002</td>\n",
       "      <td>-395554</td>\n",
       "      <td>3.994356</td>\n",
       "    </tr>\n",
       "    <tr>\n",
       "      <th>714</th>\n",
       "      <td>Zimbabwe</td>\n",
       "      <td>1997</td>\n",
       "      <td>-200000</td>\n",
       "      <td>0.033080</td>\n",
       "    </tr>\n",
       "  </tbody>\n",
       "</table>\n",
       "</div>"
      ],
      "text/plain": [
       "      Country  Year  Net_Migration  Internet_Users_Pct\n",
       "710    Zambia  1997          79445            0.009330\n",
       "711  Zimbabwe  2012        -219922           17.090000\n",
       "712  Zimbabwe  2007        -307650           10.850000\n",
       "713  Zimbabwe  2002        -395554            3.994356\n",
       "714  Zimbabwe  1997        -200000            0.033080"
      ]
     },
     "execution_count": 13,
     "metadata": {},
     "output_type": "execute_result"
    }
   ],
   "source": [
    "df.tail(n=5)"
   ]
  },
  {
   "cell_type": "markdown",
   "metadata": {},
   "source": [
    ">Create 3 dataframes based on Year, plus a dataframe containing all 3 years for later."
   ]
  },
  {
   "cell_type": "code",
   "execution_count": 14,
   "metadata": {
    "collapsed": true
   },
   "outputs": [],
   "source": [
    "df_2002 = df.loc[(df.Year == 2002)]\n",
    "df_2007 = df.loc[(df.Year == 2007)]\n",
    "df_2012 = df.loc[(df.Year == 2012)]\n",
    "df_dec = [df_2002, df_2007, df_2012]"
   ]
  },
  {
   "cell_type": "markdown",
   "metadata": {},
   "source": [
    ">Country with the highest Internet User % in 2002 - Iceland with 79.12%\n",
    "\n",
    ">Country with the lowest Internet User % in 2002 - Timor-Leste with 0.0%"
   ]
  },
  {
   "cell_type": "code",
   "execution_count": 15,
   "metadata": {},
   "outputs": [
    {
     "name": "stdout",
     "output_type": "stream",
     "text": [
      "                   Country  Year  Net_Migration  Internet_Users_Pct\n",
      "296                Iceland  2002           3894           79.120000\n",
      "481                 Norway  2002          67400           72.840000\n",
      "616                 Sweden  2002         141723           70.570000\n",
      "182                Denmark  2002          46306           64.250000\n",
      "221                Finland  2002          31935           62.430000\n",
      "126                 Canada  2002        1026702           61.593299\n",
      "621            Switzerland  2002         186125           61.400000\n",
      "455            Netherlands  2002         144620           61.290000\n",
      "464            New Zealand  2002         134629           59.080753\n",
      "688          United States  2002        5149157           58.785404\n",
      "683         United Kingdom  2002         968350           56.480000\n",
      "243                Germany  2002           1217           48.820000\n",
      "565              Singapore  2002         435595           47.000000\n",
      "332                  Japan  2002         622058           46.594201\n",
      "62                 Belgium  2002         247560           46.330000\n",
      "208                Estonia  2002         -18406           41.520000\n",
      "570        Slovak Republic  2002           1199           40.140000\n",
      "378             Luxembourg  2002          14473           39.840000\n",
      "37                 Austria  2002         178117           36.560000\n",
      "391               Malaysia  2002         490830           32.338204\n",
      "265                   Guam  2002          -9556           31.192294\n",
      "226                 France  2002         739395           30.180000\n",
      "408                  Malta  2002           5760           28.920000\n",
      "173                 Cyprus  2002          61830           28.320000\n",
      "679   United Arab Emirates  2002        1180000           28.316485\n",
      "323                  Italy  2002        1624300           28.040000\n",
      "574               Slovenia  2002          14998           27.838885\n",
      "54                Barbados  2002            -77           27.836322\n",
      "705  Virgin Islands (U.S.)  2002          -5272           27.494432\n",
      "313                Ireland  2002         199949           25.850000\n",
      "..                     ...   ...            ...                 ...\n",
      "5                  Albania  2002        -175406            0.390081\n",
      "671                 Uganda  2002          -5000            0.384094\n",
      "412             Mauritania  2002          30000            0.363229\n",
      "122               Cameroon  2002         -90000            0.360872\n",
      "383             Madagascar  2002          -5000            0.339720\n",
      "200      Equatorial Guinea  2002          25000            0.321198\n",
      "477                Nigeria  2002        -170000            0.320462\n",
      "450                  Nepal  2002        -922843            0.312956\n",
      "668           Turkmenistan  2002        -114454            0.302132\n",
      "536                 Rwanda  2002         -72601            0.292785\n",
      "13                  Angola  2002         172594            0.270377\n",
      "439             Mozambique  2002          37504            0.259613\n",
      "204                Eritrea  2002         110001            0.227090\n",
      "404                   Mali  2002         -67110            0.227046\n",
      "118               Cambodia  2002         -35156            0.226983\n",
      "629               Tanzania  2002        -295952            0.222484\n",
      "387                 Malawi  2002         -36820            0.215095\n",
      "106           Burkina Faso  2002        -125000            0.200993\n",
      "561           Sierra Leone  2002         500000            0.176199\n",
      "135                   Chad  2002         218966            0.166070\n",
      "50              Bangladesh  2002       -1700003            0.139920\n",
      "473                  Niger  2002         -28497            0.127152\n",
      "110                Burundi  2002         112532            0.118228\n",
      "582                Somalia  2002        -200000            0.115614\n",
      "213               Ethiopia  2002         -83182            0.072402\n",
      "626             Tajikistan  2002         -96542            0.055463\n",
      "368                Liberia  2002         -50000            0.032713\n",
      "2              Afghanistan  2002         804120            0.004561\n",
      "443                Myanmar  2002       -1372688            0.000426\n",
      "641            Timor-Leste  2002             12            0.000000\n",
      "\n",
      "[164 rows x 4 columns]\n"
     ]
    }
   ],
   "source": [
    "print(df_2002.sort_values(['Internet_Users_Pct'], ascending = False))"
   ]
  },
  {
   "cell_type": "markdown",
   "metadata": {},
   "source": [
    ">Country with the highest Internet User % in 2007 - Iceland with 90.60%\n",
    "\n",
    ">Country with the lowest Internet User % in 2007 - Timor-Leste with 0.140959%"
   ]
  },
  {
   "cell_type": "code",
   "execution_count": 16,
   "metadata": {},
   "outputs": [
    {
     "name": "stdout",
     "output_type": "stream",
     "text": [
      "                  Country  Year  Net_Migration  Internet_Users_Pct\n",
      "295               Iceland  2007           8041           90.600000\n",
      "480                Norway  2007         174001           86.930000\n",
      "454           Netherlands  2007          55674           85.820000\n",
      "181               Denmark  2007          87989           85.030000\n",
      "615                Sweden  2007         262453           82.010000\n",
      "220               Finland  2007          71143           80.780000\n",
      "377            Luxembourg  2007          42279           78.920000\n",
      "620           Switzerland  2007         344872           77.200000\n",
      "242               Germany  2007          31640           75.160000\n",
      "682        United Kingdom  2007        1523939           75.090000\n",
      "687         United States  2007        5070253           75.000000\n",
      "331                 Japan  2007         445267           74.300000\n",
      "125                Canada  2007        1229905           73.200000\n",
      "564             Singapore  2007         449245           69.900000\n",
      "463           New Zealand  2007          62413           69.760000\n",
      "32              Australia  2007        1132688           69.450000\n",
      "36                Austria  2007         153763           69.370000\n",
      "207               Estonia  2007         -15151           66.190000\n",
      "225                France  2007         480787           66.090000\n",
      "61                Belgium  2007         267204           64.440000\n",
      "569       Slovak Republic  2007           9597           61.800000\n",
      "312               Ireland  2007         198144           61.158325\n",
      "678  United Arab Emirates  2007        3493000           61.000000\n",
      "355                Latvia  2007         -86168           59.170000\n",
      "53               Barbados  2007           2050           58.200000\n",
      "573              Slovenia  2007          49624           56.740000\n",
      "390              Malaysia  2007         652234           55.700000\n",
      "590                 Spain  2007        2250005           55.110000\n",
      "290               Hungary  2007          95789           53.300000\n",
      "177        Czech Republic  2007         250889           51.930000\n",
      "..                    ...   ...            ...                 ...\n",
      "577       Solomon Islands  2007         -11896            2.000000\n",
      "1             Afghanistan  2007        -677497            1.900000\n",
      "160         Cote d'Ivoire  2007        -220000            1.800000\n",
      "49             Bangladesh  2007       -3570954            1.800000\n",
      "497      Papua New Guinea  2007              0            1.790559\n",
      "70                  Benin  2007          50000            1.790000\n",
      "186              Djibouti  2007         -19965            1.620000\n",
      "628              Tanzania  2007        -265317            1.600000\n",
      "199     Equatorial Guinea  2007          20000            1.557123\n",
      "411            Mauritania  2007         -20000            1.433613\n",
      "449                 Nepal  2007       -1023896            1.410000\n",
      "667          Turkmenistan  2007         -57048            1.406361\n",
      "581               Somalia  2007        -350000            1.122236\n",
      "386                Malawi  2007         -36820            0.965865\n",
      "309                  Iraq  2007        -457332            0.930000\n",
      "438            Mozambique  2007         -50000            0.910000\n",
      "134                  Chad  2007          70000            0.847225\n",
      "403                  Mali  2007        -100823            0.810000\n",
      "272                Guinea  2007         -55577            0.780025\n",
      "105          Burkina Faso  2007        -125000            0.750000\n",
      "109               Burundi  2007         163733            0.700000\n",
      "382            Madagascar  2007          -5000            0.650000\n",
      "367               Liberia  2007         175585            0.551377\n",
      "117              Cambodia  2007        -295987            0.490000\n",
      "203               Eritrea  2007        -160001            0.410000\n",
      "472                 Niger  2007         -28497            0.390391\n",
      "212              Ethiopia  2007         -50132            0.370000\n",
      "560          Sierra Leone  2007          60000            0.239835\n",
      "442               Myanmar  2007       -1466799            0.217128\n",
      "640           Timor-Leste  2007        -104946            0.140959\n",
      "\n",
      "[168 rows x 4 columns]\n"
     ]
    }
   ],
   "source": [
    "print(df_2007.sort_values(['Internet_Users_Pct'], ascending = False))"
   ]
  },
  {
   "cell_type": "markdown",
   "metadata": {},
   "source": [
    ">Country with the highest Internet User % in 2012 - Iceland with 96.2098%\n",
    "\n",
    ">Country with the lowest Internet User % in 2012 - Eritrea with 0.8%"
   ]
  },
  {
   "cell_type": "code",
   "execution_count": 17,
   "metadata": {
    "scrolled": true
   },
   "outputs": [
    {
     "name": "stdout",
     "output_type": "stream",
     "text": [
      "                  Country  Year  Net_Migration  Internet_Users_Pct\n",
      "294               Iceland  2012           -378           96.209800\n",
      "479                Norway  2012         235665           94.649978\n",
      "614                Sweden  2012         272626           93.179988\n",
      "453           Netherlands  2012         110006           92.859992\n",
      "180               Denmark  2012          96839           92.260012\n",
      "376            Luxembourg  2012          48704           91.949924\n",
      "219               Finland  2012         107409           89.879998\n",
      "44                Bahrain  2012          29915           88.000000\n",
      "681        United Kingdom  2012         900000           87.479998\n",
      "619           Switzerland  2012         382267           85.200000\n",
      "677  United Arab Emirates  2012         405000           84.999992\n",
      "124                Canada  2012        1175863           83.000000\n",
      "241               Germany  2012        1249998           82.349998\n",
      "462           New Zealand  2012           7265           82.000000\n",
      "224                France  2012         331555           81.440000\n",
      "60                Belgium  2012         269998           80.719991\n",
      "35                Austria  2012         147089           80.029994\n",
      "330                 Japan  2012         350000           79.496400\n",
      "686         United States  2012        5007887           79.300000\n",
      "31              Australia  2012        1023107           79.000000\n",
      "206               Estonia  2012         -11850           78.389926\n",
      "311               Ireland  2012        -140001           76.919993\n",
      "568       Slovak Republic  2012           1199           76.709990\n",
      "28                  Aruba  2012           1253           74.000000\n",
      "176        Czech Republic  2012          29999           73.430008\n",
      "354                Latvia  2012         -73442           73.119944\n",
      "563             Singapore  2012         397936           72.000000\n",
      "316                Israel  2012          19497           70.800000\n",
      "289               Hungary  2012          29999           70.579998\n",
      "350                Kuwait  2012         517500           70.450000\n",
      "..                    ...   ...            ...                 ...\n",
      "576       Solomon Islands  2012         -11868            6.997400\n",
      "150               Comoros  2012         -10000            5.975296\n",
      "120              Cameroon  2012         -60000            5.698987\n",
      "0             Afghanistan  2012         473007            5.454545\n",
      "48             Bangladesh  2012       -2226481            5.000000\n",
      "410            Mauritania  2012         -20000            5.000000\n",
      "159         Cote d'Ivoire  2012          50000            5.000000\n",
      "116              Cambodia  2012        -149999            4.940000\n",
      "437            Mozambique  2012         -25000            4.849100\n",
      "362               Lesotho  2012         -19998            4.589618\n",
      "69                  Benin  2012         -10000            4.500000\n",
      "385                Malawi  2012         -30000            4.350600\n",
      "642                  Togo  2012          -9994            4.000000\n",
      "627              Tanzania  2012        -199999            3.950000\n",
      "104          Burkina Faso  2012        -125000            3.725035\n",
      "496      Papua New Guinea  2012              0            3.500000\n",
      "275         Guinea-Bissau  2012         -10000            2.893991\n",
      "402                  Mali  2012        -302449            2.800000\n",
      "366               Liberia  2012         -20000            2.600000\n",
      "381            Madagascar  2012          -5000            2.300000\n",
      "133                  Chad  2012         100000            2.100000\n",
      "271                Guinea  2012         -10000            1.490144\n",
      "211              Ethiopia  2012         -60001            1.482810\n",
      "471                 Niger  2012         -28497            1.407700\n",
      "580               Somalia  2012        -400000            1.376700\n",
      "559          Sierra Leone  2012         -21000            1.300000\n",
      "108               Burundi  2012          40000            1.220000\n",
      "441               Myanmar  2012        -474278            1.069100\n",
      "639           Timor-Leste  2012         -50004            0.914700\n",
      "202               Eritrea  2012        -160001            0.800000\n",
      "\n",
      "[167 rows x 4 columns]\n"
     ]
    }
   ],
   "source": [
    "print(df_2012.sort_values(['Internet_Users_Pct'], ascending = False))\n"
   ]
  },
  {
   "cell_type": "markdown",
   "metadata": {},
   "source": [
    ">Country with the highest Net Migration in 2012 - United States with 5,007,887\n",
    "\n",
    ">Country with the lowest Net Migration in 2012 - India with -2,598,218"
   ]
  },
  {
   "cell_type": "code",
   "execution_count": 18,
   "metadata": {},
   "outputs": [
    {
     "name": "stdout",
     "output_type": "stream",
     "text": [
      "                  Country  Year  Net_Migration  Internet_Users_Pct\n",
      "686         United States  2012        5007887           79.300000\n",
      "662                Turkey  2012        2000003           45.130000\n",
      "358               Lebanon  2012        1250000           61.249786\n",
      "241               Germany  2012        1249998           82.349998\n",
      "484                  Oman  2012        1211000           60.000000\n",
      "124                Canada  2012        1175863           83.000000\n",
      "31              Australia  2012        1023107           79.000000\n",
      "681        United Kingdom  2012         900000           87.479998\n",
      "545          Saudi Arabia  2012         850000           54.000000\n",
      "584          South Africa  2012         600000           41.000000\n",
      "308                  Iraq  2012         548666            7.100000\n",
      "321                 Italy  2012         528269           55.829998\n",
      "350                Kuwait  2012         517500           70.450000\n",
      "0             Afghanistan  2012         473007            5.454545\n",
      "389              Malaysia  2012         450000           65.800000\n",
      "677  United Arab Emirates  2012         405000           84.999992\n",
      "563             Singapore  2012         397936           72.000000\n",
      "619           Switzerland  2012         382267           85.200000\n",
      "526                 Qatar  2012         363500           69.300000\n",
      "330                 Japan  2012         350000           79.496400\n",
      "224                France  2012         331555           81.440000\n",
      "614                Sweden  2012         272626           93.179988\n",
      "60                Belgium  2012         269998           80.719991\n",
      "479                Norway  2012         235665           94.649978\n",
      "335                Jordan  2012         229617           37.000000\n",
      "137                 Chile  2012         201289           61.418155\n",
      "673               Ukraine  2012         195000           35.270000\n",
      "339            Kazakhstan  2012         159807           53.315669\n",
      "35                Austria  2012         147089           80.029994\n",
      "56                Belarus  2012         120535           46.910000\n",
      "..                    ...   ...            ...                 ...\n",
      "7                 Algeria  2012        -143268           15.228027\n",
      "146              Colombia  2012        -144998           48.980000\n",
      "116              Cambodia  2012        -149999            4.940000\n",
      "282                 Haiti  2012        -150000            9.800000\n",
      "669                Uganda  2012        -150000           14.689600\n",
      "202               Eritrea  2012        -160001            0.800000\n",
      "372             Lithuania  2012        -169529           67.229989\n",
      "695            Uzbekistan  2012        -195001           36.521300\n",
      "627              Tanzania  2012        -199999            3.950000\n",
      "711              Zimbabwe  2012        -219922           17.090000\n",
      "504                  Peru  2012        -240000           38.200000\n",
      "194           El Salvador  2012        -240415           20.321388\n",
      "237               Georgia  2012        -296323           36.940000\n",
      "475               Nigeria  2012        -300000           32.800000\n",
      "402                  Mali  2012        -302449            2.800000\n",
      "433               Morocco  2012        -310624           55.416053\n",
      "448                 Nepal  2012        -372369           11.149300\n",
      "580               Somalia  2012        -400000            1.376700\n",
      "530               Romania  2012        -437201           45.879994\n",
      "441               Myanmar  2012        -474278            1.069100\n",
      "594             Sri Lanka  2012        -484772           18.285400\n",
      "418                Mexico  2012        -523585           39.750000\n",
      "589                 Spain  2012        -593069           69.810000\n",
      "304             Indonesia  2012        -700000           14.520000\n",
      "508           Philippines  2012        -700000           36.235100\n",
      "602                 Sudan  2012        -800000           21.000000\n",
      "488              Pakistan  2012       -1081918            9.960000\n",
      "142                 China  2012       -1800000           42.300117\n",
      "48             Bangladesh  2012       -2226481            5.000000\n",
      "299                 India  2012       -2598218           12.580061\n",
      "\n",
      "[167 rows x 4 columns]\n"
     ]
    }
   ],
   "source": [
    "print(df_2012.sort_values(['Net_Migration'], ascending = False))"
   ]
  },
  {
   "cell_type": "markdown",
   "metadata": {},
   "source": [
    ">2002 Scatterplot - Comparing Net Migraiton to % of Internet Users"
   ]
  },
  {
   "cell_type": "code",
   "execution_count": 19,
   "metadata": {},
   "outputs": [
    {
     "data": {
      "image/png": "[encoded data removed]",
      "text/plain": [
       "<matplotlib.figure.Figure at 0x1079bda20>"
      ]
     },
     "metadata": {},
     "output_type": "display_data"
    }
   ],
   "source": [
    "df_2002.plot(kind = 'scatter', x = 'Internet_Users_Pct', y = 'Net_Migration', title = '2002')\n",
    "plt.show()"
   ]
  },
  {
   "cell_type": "markdown",
   "metadata": {},
   "source": [
    ">2007 Scatterplot - Comparing Net Migraiton to % of Internet Users"
   ]
  },
  {
   "cell_type": "code",
   "execution_count": 20,
   "metadata": {},
   "outputs": [
    {
     "data": {
      "image/png": "[encoded data removed]",
      "text/plain": [
       "<matplotlib.figure.Figure at 0x103643d30>"
      ]
     },
     "metadata": {},
     "output_type": "display_data"
    }
   ],
   "source": [
    "df_2007.plot(kind = 'scatter', x = 'Internet_Users_Pct', y = 'Net_Migration', title = '2007')\n",
    "plt.show()"
   ]
  },
  {
   "cell_type": "markdown",
   "metadata": {},
   "source": [
    ">2012 Scatterplot - Comparing Net Migraiton to % of Internet Users"
   ]
  },
  {
   "cell_type": "code",
   "execution_count": 21,
   "metadata": {},
   "outputs": [
    {
     "data": {
      "image/png": "[encoded data removed]",
      "text/plain": [
       "<matplotlib.figure.Figure at 0x107b90f60>"
      ]
     },
     "metadata": {},
     "output_type": "display_data"
    }
   ],
   "source": [
    "df_2012.plot(kind = 'scatter', x = 'Internet_Users_Pct', y = 'Net_Migration', title = '2012')\n",
    "plt.show()"
   ]
  },
  {
   "cell_type": "markdown",
   "metadata": {},
   "source": [
    ">Observations:\n",
    ">Unsurprisingly, the % of internet users has generally increased from 2002-2012, while net migration has stayed relatively consistent. There's a positive correlation between the % of internet users that a country has and their net migration, seen more directly in 2002 & 2007. In 2012, we're seeing countries with higher % of internet users with negative net migration, which is not seen in the data from 2002 and 2007."
   ]
  },
  {
   "cell_type": "code",
   "execution_count": 22,
   "metadata": {
    "collapsed": true
   },
   "outputs": [],
   "source": [
    "df_internet_2012 = df_2012['Internet_Users_Pct']"
   ]
  },
  {
   "cell_type": "code",
   "execution_count": 23,
   "metadata": {},
   "outputs": [
    {
     "data": {
      "text/plain": [
       "<matplotlib.axes._subplots.AxesSubplot at 0x107c9a3c8>"
      ]
     },
     "execution_count": 23,
     "metadata": {},
     "output_type": "execute_result"
    },
    {
     "data": {
      "image/png": "[encoded data removed]",
      "text/plain": [
       "<matplotlib.figure.Figure at 0x10712bf60>"
      ]
     },
     "metadata": {},
     "output_type": "display_data"
    }
   ],
   "source": [
    "df_internet_2012.plot(x = 'Internet_Users_Pct', kind = 'hist', title = '2012 Internet Usage Histogram', bins=10)"
   ]
  },
  {
   "cell_type": "code",
   "execution_count": 24,
   "metadata": {
    "collapsed": true
   },
   "outputs": [],
   "source": [
    "df_migration_2012 = df_2012['Net_Migration']"
   ]
  },
  {
   "cell_type": "code",
   "execution_count": 25,
   "metadata": {},
   "outputs": [
    {
     "data": {
      "text/plain": [
       "<matplotlib.axes._subplots.AxesSubplot at 0x10f50ac50>"
      ]
     },
     "execution_count": 25,
     "metadata": {},
     "output_type": "execute_result"
    },
    {
     "data": {
      "image/png": "[encoded data removed]",
      "text/plain": [
       "<matplotlib.figure.Figure at 0x107d032e8>"
      ]
     },
     "metadata": {},
     "output_type": "display_data"
    }
   ],
   "source": [
    "df_migration_2012.plot(x = 'Net_Migration', kind = 'hist', title = '2012 Net Migration Histogram', bins=10)"
   ]
  },
  {
   "cell_type": "markdown",
   "metadata": {},
   "source": [
    ">The internet usage from 2012 is not unimodal. The mode is close to the minimum value.\n",
    "\n",
    ">The net migration is unimodal. When displayed through a histogram, you can see a regular distribution."
   ]
  },
  {
   "cell_type": "markdown",
   "metadata": {},
   "source": [
    ">Find the 5 highest %'s' of Internet Users"
   ]
  },
  {
   "cell_type": "code",
   "execution_count": 26,
   "metadata": {
    "collapsed": true
   },
   "outputs": [],
   "source": [
    "df_top_2012 = (df_2012.sort_values(['Internet_Users_Pct'], ascending = False)).head(5)\n",
    "df_top_2007 = (df_2007.sort_values(['Internet_Users_Pct'], ascending = False)).head(5)\n",
    "df_top_2002 = (df_2002.sort_values(['Internet_Users_Pct'], ascending = False)).head(5)\n",
    "\n",
    "df_top_5 = [df_top_2002, df_top_2007, df_top_2012]"
   ]
  },
  {
   "cell_type": "code",
   "execution_count": 27,
   "metadata": {
    "collapsed": true
   },
   "outputs": [],
   "source": [
    "top_5_internet = pd.concat(df_top_5)"
   ]
  },
  {
   "cell_type": "code",
   "execution_count": 28,
   "metadata": {},
   "outputs": [
    {
     "name": "stdout",
     "output_type": "stream",
     "text": [
      "         Country  Year  Net_Migration  Internet_Users_Pct\n",
      "296      Iceland  2002           3894           79.120000\n",
      "481       Norway  2002          67400           72.840000\n",
      "616       Sweden  2002         141723           70.570000\n",
      "182      Denmark  2002          46306           64.250000\n",
      "221      Finland  2002          31935           62.430000\n",
      "295      Iceland  2007           8041           90.600000\n",
      "480       Norway  2007         174001           86.930000\n",
      "454  Netherlands  2007          55674           85.820000\n",
      "181      Denmark  2007          87989           85.030000\n",
      "615       Sweden  2007         262453           82.010000\n",
      "294      Iceland  2012           -378           96.209800\n",
      "479       Norway  2012         235665           94.649978\n",
      "614       Sweden  2012         272626           93.179988\n",
      "453  Netherlands  2012         110006           92.859992\n",
      "180      Denmark  2012          96839           92.260012\n"
     ]
    },
    {
     "data": {
      "text/plain": [
       "(15, 4)"
      ]
     },
     "execution_count": 28,
     "metadata": {},
     "output_type": "execute_result"
    }
   ],
   "source": [
    "print(top_5_internet)\n",
    "top_5_internet.shape"
   ]
  },
  {
   "cell_type": "code",
   "execution_count": 29,
   "metadata": {
    "collapsed": true
   },
   "outputs": [],
   "source": [
    "import seaborn as sns"
   ]
  },
  {
   "cell_type": "code",
   "execution_count": 30,
   "metadata": {},
   "outputs": [
    {
     "data": {
      "text/plain": [
       "<seaborn.axisgrid.FacetGrid at 0x10f62ac88>"
      ]
     },
     "execution_count": 30,
     "metadata": {},
     "output_type": "execute_result"
    },
    {
     "data": {
      "image/png": "[encoded data removed]",
      "text/plain": [
       "<matplotlib.figure.Figure at 0x1a1102ec50>"
      ]
     },
     "metadata": {},
     "output_type": "display_data"
    }
   ],
   "source": [
    "sns.factorplot(data=top_5_internet, x=\"Year\", y=\"Internet_Users_Pct\", col=\"Country\")"
   ]
  },
  {
   "cell_type": "code",
   "execution_count": 31,
   "metadata": {
    "collapsed": true
   },
   "outputs": [],
   "source": [
    "df_bottom_2012 = (df_2012.sort_values(['Internet_Users_Pct'], ascending = True)).head(5)\n",
    "df_bottom_2007 = (df_2007.sort_values(['Internet_Users_Pct'], ascending = True)).head(5)\n",
    "df_bottom_2002 = (df_2002.sort_values(['Internet_Users_Pct'], ascending = True)).head(5)\n",
    "\n",
    "df_bottom_5 = [df_bottom_2002, df_bottom_2007, df_bottom_2012]"
   ]
  },
  {
   "cell_type": "code",
   "execution_count": 32,
   "metadata": {
    "collapsed": true
   },
   "outputs": [],
   "source": [
    "bottom_5_internet = pd.concat(df_bottom_5)"
   ]
  },
  {
   "cell_type": "code",
   "execution_count": 33,
   "metadata": {},
   "outputs": [
    {
     "data": {
      "text/plain": [
       "<seaborn.axisgrid.FacetGrid at 0x1a115fae48>"
      ]
     },
     "execution_count": 33,
     "metadata": {},
     "output_type": "execute_result"
    },
    {
     "data": {
      "image/png": "[encoded data removed]",
      "text/plain": [
       "<matplotlib.figure.Figure at 0x1a1161fc18>"
      ]
     },
     "metadata": {},
     "output_type": "display_data"
    }
   ],
   "source": [
    "sns.factorplot(data=bottom_5_internet, x=\"Year\", y=\"Internet_Users_Pct\", col=\"Country\")"
   ]
  },
  {
   "cell_type": "code",
   "execution_count": 34,
   "metadata": {
    "collapsed": true
   },
   "outputs": [],
   "source": [
    "df_top_net_2012 = (df_2012.sort_values(['Net_Migration'], ascending = False)).head(5)\n",
    "df_top_net_2007 = (df_2007.sort_values(['Net_Migration'], ascending = False)).head(5)\n",
    "df_top_net_2002 = (df_2002.sort_values(['Net_Migration'], ascending = False)).head(5)\n",
    "\n",
    "df_top_net_5 = [df_top_net_2002, df_top_net_2007, df_top_net_2012]"
   ]
  },
  {
   "cell_type": "code",
   "execution_count": 35,
   "metadata": {
    "collapsed": true
   },
   "outputs": [],
   "source": [
    "top_5_net_migration = pd.concat(df_top_net_5)"
   ]
  },
  {
   "cell_type": "code",
   "execution_count": 36,
   "metadata": {},
   "outputs": [
    {
     "data": {
      "text/plain": [
       "<seaborn.axisgrid.FacetGrid at 0x1a1210a668>"
      ]
     },
     "execution_count": 36,
     "metadata": {},
     "output_type": "execute_result"
    },
    {
     "data": {
      "image/png": "[encoded data removed]",
      "text/plain": [
       "<matplotlib.figure.Figure at 0x1a1161fda0>"
      ]
     },
     "metadata": {},
     "output_type": "display_data"
    }
   ],
   "source": [
    "sns.factorplot(data=top_5_net_migration, x=\"Year\", y=\"Net_Migration\", col=\"Country\")"
   ]
  },
  {
   "cell_type": "code",
   "execution_count": 37,
   "metadata": {
    "collapsed": true
   },
   "outputs": [],
   "source": [
    "df_bottom_net_2012 = (df_2012.sort_values(['Net_Migration'], ascending = True)).head(5)\n",
    "df_bottom_net_2007 = (df_2007.sort_values(['Net_Migration'], ascending = True)).head(5)\n",
    "df_bottom_net_2002 = (df_2002.sort_values(['Net_Migration'], ascending = True)).head(5)\n",
    "\n",
    "df_bottom_net_5 = [df_bottom_net_2002, df_bottom_net_2007, df_bottom_net_2012]"
   ]
  },
  {
   "cell_type": "code",
   "execution_count": 38,
   "metadata": {
    "collapsed": true
   },
   "outputs": [],
   "source": [
    "bottom_5_net_migration = pd.concat(df_bottom_net_5)"
   ]
  },
  {
   "cell_type": "code",
   "execution_count": 39,
   "metadata": {},
   "outputs": [
    {
     "data": {
      "text/plain": [
       "<seaborn.axisgrid.FacetGrid at 0x1a120edfd0>"
      ]
     },
     "execution_count": 39,
     "metadata": {},
     "output_type": "execute_result"
    },
    {
     "data": {
      "image/png": "[encoded data removed]",
      "text/plain": [
       "<matplotlib.figure.Figure at 0x10f5472e8>"
      ]
     },
     "metadata": {},
     "output_type": "display_data"
    }
   ],
   "source": [
    "sns.factorplot(data=bottom_5_net_migration, x=\"Year\", y=\"Net_Migration\", col=\"Country\")"
   ]
  },
  {
   "cell_type": "markdown",
   "metadata": {},
   "source": [
    ">Next 4 lines - Grab the names of the bottom 5 in Net Migration from 2012, merge on Country, then create plot points."
   ]
  },
  {
   "cell_type": "code",
   "execution_count": 40,
   "metadata": {
    "scrolled": false
   },
   "outputs": [
    {
     "name": "stdout",
     "output_type": "stream",
     "text": [
      "        Country  Year  Net_Migration  Internet_Users_Pct\n",
      "299       India  2012       -2598218           12.580061\n",
      "48   Bangladesh  2012       -2226481            5.000000\n",
      "142       China  2012       -1800000           42.300117\n",
      "488    Pakistan  2012       -1081918            9.960000\n",
      "602       Sudan  2012        -800000           21.000000\n"
     ]
    }
   ],
   "source": [
    "df_dec_all = pd.concat(df_dec)\n",
    "print(df_bottom_net_2012)"
   ]
  },
  {
   "cell_type": "code",
   "execution_count": 41,
   "metadata": {
    "scrolled": true
   },
   "outputs": [
    {
     "name": "stdout",
     "output_type": "stream",
     "text": [
      "        Country\n",
      "299       India\n",
      "48   Bangladesh\n",
      "142       China\n",
      "488    Pakistan\n",
      "602       Sudan\n"
     ]
    }
   ],
   "source": [
    "df_bottom_net = df_bottom_net_2012.drop(df_bottom_net_2012.columns[1:], axis=1)\n",
    "print(df_bottom_net)"
   ]
  },
  {
   "cell_type": "code",
   "execution_count": 42,
   "metadata": {
    "scrolled": true
   },
   "outputs": [
    {
     "name": "stdout",
     "output_type": "stream",
     "text": [
      "       Country  Year  Net_Migration  Internet_Users_Pct\n",
      "0   Bangladesh  2002       -1700003            0.139920\n",
      "1   Bangladesh  2007       -3570954            1.800000\n",
      "2   Bangladesh  2012       -2226481            5.000000\n",
      "3        China  2002       -2144051            4.595704\n",
      "4        China  2007       -2202103           16.000000\n",
      "5        China  2012       -1800000           42.300117\n",
      "6        India  2002       -2206411            1.537876\n",
      "7        India  2007       -2829378            3.950000\n",
      "8        India  2012       -2598218           12.580061\n",
      "9     Pakistan  2002        -896486            2.577427\n",
      "10    Pakistan  2007       -1296372            6.800000\n",
      "11    Pakistan  2012       -1081918            9.960000\n",
      "12       Sudan  2002        -430000            0.439478\n",
      "13       Sudan  2007        -500000            8.660000\n",
      "14       Sudan  2012        -800000           21.000000\n"
     ]
    }
   ],
   "source": [
    "bottom_net_decade = pd.merge(df_dec_all, df_bottom_net, on = 'Country')\n",
    "print(bottom_net_decade)"
   ]
  },
  {
   "cell_type": "code",
   "execution_count": 43,
   "metadata": {
    "scrolled": true
   },
   "outputs": [
    {
     "data": {
      "text/plain": [
       "<seaborn.axisgrid.FacetGrid at 0x1a13922400>"
      ]
     },
     "execution_count": 43,
     "metadata": {},
     "output_type": "execute_result"
    },
    {
     "data": {
      "image/png": "[encoded data removed]",
      "text/plain": [
       "<matplotlib.figure.Figure at 0x1a13922278>"
      ]
     },
     "metadata": {},
     "output_type": "display_data"
    }
   ],
   "source": [
    "sns.factorplot(data=bottom_net_decade, x=\"Year\", y=\"Net_Migration\", col=\"Country\")"
   ]
  },
  {
   "cell_type": "markdown",
   "metadata": {},
   "source": [
    ">Next 4 lines - Grab the names of the top 5 in Net Migration from 2012, merge on Country, then create plot points."
   ]
  },
  {
   "cell_type": "code",
   "execution_count": 44,
   "metadata": {
    "scrolled": true
   },
   "outputs": [
    {
     "name": "stdout",
     "output_type": "stream",
     "text": [
      "           Country  Year  Net_Migration  Internet_Users_Pct\n",
      "686  United States  2012        5007887           79.300000\n",
      "662         Turkey  2012        2000003           45.130000\n",
      "358        Lebanon  2012        1250000           61.249786\n",
      "241        Germany  2012        1249998           82.349998\n",
      "484           Oman  2012        1211000           60.000000\n"
     ]
    }
   ],
   "source": [
    "df_dec_all = pd.concat(df_dec)\n",
    "print(df_top_net_2012)"
   ]
  },
  {
   "cell_type": "code",
   "execution_count": 45,
   "metadata": {
    "scrolled": false
   },
   "outputs": [
    {
     "name": "stdout",
     "output_type": "stream",
     "text": [
      "           Country\n",
      "686  United States\n",
      "662         Turkey\n",
      "358        Lebanon\n",
      "241        Germany\n",
      "484           Oman\n"
     ]
    }
   ],
   "source": [
    "df_top_net = df_top_net_2012.drop(df_top_net_2012.columns[1:], axis=1)\n",
    "print(df_top_net)"
   ]
  },
  {
   "cell_type": "code",
   "execution_count": 46,
   "metadata": {
    "scrolled": false
   },
   "outputs": [
    {
     "name": "stdout",
     "output_type": "stream",
     "text": [
      "          Country  Year  Net_Migration  Internet_Users_Pct\n",
      "0         Germany  2002           1217           48.820000\n",
      "1         Germany  2007          31640           75.160000\n",
      "2         Germany  2012        1249998           82.349998\n",
      "3         Lebanon  2002         550110            7.000000\n",
      "4         Lebanon  2007         183370           18.740000\n",
      "5         Lebanon  2012        1250000           61.249786\n",
      "6            Oman  2002          40452            6.873396\n",
      "7            Oman  2007         185500           16.680000\n",
      "8            Oman  2012        1211000           60.000000\n",
      "9          Turkey  2002        -100002           11.380000\n",
      "10         Turkey  2007         -50000           28.630000\n",
      "11         Turkey  2012        2000003           45.130000\n",
      "12  United States  2002        5149157           58.785404\n",
      "13  United States  2007        5070253           75.000000\n",
      "14  United States  2012        5007887           79.300000\n"
     ]
    }
   ],
   "source": [
    "top_net_decade = pd.merge(df_dec_all, df_top_net, on = 'Country')\n",
    "print(top_net_decade)"
   ]
  },
  {
   "cell_type": "code",
   "execution_count": 47,
   "metadata": {
    "scrolled": false
   },
   "outputs": [
    {
     "data": {
      "text/plain": [
       "<seaborn.axisgrid.FacetGrid at 0x1a14080208>"
      ]
     },
     "execution_count": 47,
     "metadata": {},
     "output_type": "execute_result"
    },
    {
     "data": {
      "image/png": "[encoded data removed]",
      "text/plain": [
       "<matplotlib.figure.Figure at 0x1a1406fe10>"
      ]
     },
     "metadata": {},
     "output_type": "display_data"
    }
   ],
   "source": [
    "sns.factorplot(data=top_net_decade, x=\"Year\", y=\"Net_Migration\", col=\"Country\")"
   ]
  },
  {
   "cell_type": "markdown",
   "metadata": {},
   "source": [
    ">A few observations that peaked my interest:\n",
    "\n",
    "    1) The minimum value of our dataset - Bengladesh (2007). The country had a political crisis from 2006-2008 that was captured by this data. The government was in a violent transitional period, which would lead to a rise in migration.\n",
    "    \n",
    "    2) Iceland has been purchasing connections to major internet lines since the late 80's, with first commercial internet services available in 1994. Iceland has been making the fastest internet connections available to their residents, with 75% of homes currently having access to a fiber connection.\n",
    "    \n",
    "    3) The UAE experienced a huge surge in net migration from 2002 to 2007, but then it doesn't appear in the top 5 for 2012 despite the expected trend. Up to 90% of the workforce in Dubai was filled by migrant workers, but the tourist-dependent nature of Dubai was decimated by the global recession that started in mid-2007. "
   ]
  },
  {
   "cell_type": "markdown",
   "metadata": {},
   "source": [
    ">I decided to add \"Mobile Subscriptions per 100 people\" data to my existing Net Migration/Internet Usage %. My intention is to test the hypothesis that countries with high internet usage would also have a high mobile subscription rate, especially with the prevelance of smartphones in the 2012 data."
   ]
  },
  {
   "cell_type": "code",
   "execution_count": 48,
   "metadata": {
    "collapsed": true
   },
   "outputs": [],
   "source": [
    "mobile_use = pd.read_csv(\"/Users/Justin/Downloads/UNMobileData.csv\")"
   ]
  },
  {
   "cell_type": "code",
   "execution_count": 49,
   "metadata": {
    "collapsed": true
   },
   "outputs": [],
   "source": [
    "del mobile_use['Value Footnotes']"
   ]
  },
  {
   "cell_type": "code",
   "execution_count": 50,
   "metadata": {
    "collapsed": true
   },
   "outputs": [],
   "source": [
    "mobile_use.columns = ['Country','Year','Mobile_Users_Per_100']"
   ]
  },
  {
   "cell_type": "code",
   "execution_count": 51,
   "metadata": {
    "collapsed": true
   },
   "outputs": [],
   "source": [
    "df_combined = pd.merge(df, mobile_use, on=['Country', 'Year'])"
   ]
  },
  {
   "cell_type": "code",
   "execution_count": 52,
   "metadata": {
    "collapsed": true
   },
   "outputs": [],
   "source": [
    "df_combined_2002 = df_combined.loc[(df_combined.Year == 2002)]\n",
    "df_combined_2007 = df_combined.loc[(df_combined.Year == 2007)]\n",
    "df_combined_2012 = df_combined.loc[(df_combined.Year == 2012)]"
   ]
  },
  {
   "cell_type": "code",
   "execution_count": 53,
   "metadata": {},
   "outputs": [
    {
     "data": {
      "image/png": "[encoded data removed]",
      "text/plain": [
       "<matplotlib.figure.Figure at 0x1a146c6e48>"
      ]
     },
     "metadata": {},
     "output_type": "display_data"
    }
   ],
   "source": [
    "df_combined_2002.plot(kind = 'scatter', x = 'Internet_Users_Pct', y = 'Mobile_Users_Per_100', title = '2002')\n",
    "plt.show()"
   ]
  },
  {
   "cell_type": "code",
   "execution_count": 54,
   "metadata": {},
   "outputs": [
    {
     "data": {
      "image/png": "[encoded data removed]",
      "text/plain": [
       "<matplotlib.figure.Figure at 0x1a14e8d240>"
      ]
     },
     "metadata": {},
     "output_type": "display_data"
    }
   ],
   "source": [
    "df_combined_2007.plot(kind = 'scatter', x = 'Internet_Users_Pct', y = 'Mobile_Users_Per_100', title = '2007')\n",
    "plt.show()"
   ]
  },
  {
   "cell_type": "code",
   "execution_count": 55,
   "metadata": {},
   "outputs": [
    {
     "data": {
      "image/png": "[encoded data removed]",
      "text/plain": [
       "<matplotlib.figure.Figure at 0x1a146f54e0>"
      ]
     },
     "metadata": {},
     "output_type": "display_data"
    }
   ],
   "source": [
    "df_combined_2012.plot(kind = 'scatter', x = 'Internet_Users_Pct', y = 'Mobile_Users_Per_100', title = '2012')\n",
    "plt.show()"
   ]
  },
  {
   "cell_type": "markdown",
   "metadata": {},
   "source": [
    ">Comparing the data for 2002, 2007, and 2012 produced results similar to what I expected. The correlation between internet uers and mobile subscriptions is slightly less strong than I predicted, but there's still a positive correlation. The lack of clustering around the expected trend line is interesting. I hadn't considered that mobile and other types of internet access are reliant on different structures - mobile towers vs underground cabling."
   ]
  },
  {
   "cell_type": "code",
   "execution_count": 56,
   "metadata": {
    "collapsed": true
   },
   "outputs": [],
   "source": [
    "df_top_mobile_2012 = (df_combined_2012.sort_values(['Mobile_Users_Per_100'], ascending = False)).head(5)\n",
    "df_top_mobile_2007 = (df_combined_2007.sort_values(['Mobile_Users_Per_100'], ascending = False)).head(5)\n",
    "df_top_mobile_2002 = (df_combined_2002.sort_values(['Mobile_Users_Per_100'], ascending = False)).head(5)\n",
    "\n",
    "df_top_mobile_5 = [df_top_mobile_2002, df_top_mobile_2007, df_top_mobile_2012]"
   ]
  },
  {
   "cell_type": "code",
   "execution_count": 57,
   "metadata": {
    "collapsed": true
   },
   "outputs": [],
   "source": [
    "top_5_mobile = pd.concat(df_top_mobile_5)"
   ]
  },
  {
   "cell_type": "markdown",
   "metadata": {},
   "source": [
    ">The presence of low-population countries in the top 5 for mobile subcribers makes sense, but the top 5 in 2012 was the largest surprise for me. Looking into Gabon and Maldives in 2012 along with UAE in 2007 leads me to believe that there might be a correlation between low-population countries with tourism economies and mobile subscriptions, which would require additional datasets."
   ]
  },
  {
   "cell_type": "code",
   "execution_count": 58,
   "metadata": {},
   "outputs": [
    {
     "name": "stdout",
     "output_type": "stream",
     "text": [
      "                  Country  Year  Net_Migration  Internet_Users_Pct  \\\n",
      "376            Luxembourg  2002          14473           39.840000   \n",
      "316                Israel  2002         102935           17.764599   \n",
      "321                 Italy  2002        1624300           28.040000   \n",
      "294               Iceland  2002           3894           79.120000   \n",
      "614                Sweden  2002         141723           70.570000   \n",
      "371             Lithuania  2007        -141659           49.900000   \n",
      "320                 Italy  2007        1006308           40.790000   \n",
      "430            Montenegro  2007          -3108           30.800000   \n",
      "375            Luxembourg  2007          42279           78.920000   \n",
      "675  United Arab Emirates  2007        3493000           61.000000   \n",
      "543          Saudi Arabia  2012         850000           54.000000   \n",
      "337            Kazakhstan  2012         159807           53.315669   \n",
      "233                 Gabon  2012           5000            8.616714   \n",
      "219               Finland  2012         107409           89.879998   \n",
      "392              Maldives  2012            -53           38.930100   \n",
      "\n",
      "     Mobile_Users_Per_100  \n",
      "376            106.645864  \n",
      "316            100.978529  \n",
      "321             94.258493  \n",
      "294             90.767402  \n",
      "614             89.202793  \n",
      "371            153.979357  \n",
      "320            150.962827  \n",
      "430            145.678213  \n",
      "375            143.713757  \n",
      "675            133.362864  \n",
      "543            187.359558  \n",
      "337            185.821563  \n",
      "233            179.471411  \n",
      "219            172.322429  \n",
      "392            165.625720  \n"
     ]
    }
   ],
   "source": [
    "print(top_5_mobile)"
   ]
  },
  {
   "cell_type": "code",
   "execution_count": 59,
   "metadata": {
    "collapsed": true
   },
   "outputs": [],
   "source": [
    "df_bottom_mobile_2012 = (df_combined_2012.sort_values(['Mobile_Users_Per_100'], ascending = True)).head(5)\n",
    "df_bottom_mobile_2007 = (df_combined_2007.sort_values(['Mobile_Users_Per_100'], ascending = True)).head(5)\n",
    "df_bottom_mobile_2002 = (df_combined_2002.sort_values(['Mobile_Users_Per_100'], ascending = True)).head(5)\n",
    "\n",
    "df_bottom_mobile_5 = [df_bottom_mobile_2002, df_bottom_mobile_2007, df_bottom_mobile_2012]"
   ]
  },
  {
   "cell_type": "code",
   "execution_count": 60,
   "metadata": {
    "collapsed": true
   },
   "outputs": [],
   "source": [
    "bottom_5_mobile = pd.concat(df_bottom_mobile_5)"
   ]
  },
  {
   "cell_type": "code",
   "execution_count": 61,
   "metadata": {},
   "outputs": [
    {
     "name": "stdout",
     "output_type": "stream",
     "text": [
      "           Country  Year  Net_Migration  Internet_Users_Pct  \\\n",
      "204        Eritrea  2002         110001            0.227090   \n",
      "275  Guinea-Bissau  2002         -30000            1.022993   \n",
      "152        Comoros  2002         -10000            0.554870   \n",
      "75          Bhutan  2002          34976            1.675803   \n",
      "213       Ethiopia  2002         -83182            0.072402   \n",
      "440        Myanmar  2007       -1466799            0.217128   \n",
      "346       Kiribati  2007           -578            6.000000   \n",
      "212       Ethiopia  2007         -50132            0.370000   \n",
      "203        Eritrea  2007        -160001            0.410000   \n",
      "168           Cuba  2007        -193998           11.690000   \n",
      "202        Eritrea  2012        -160001            0.800000   \n",
      "439        Myanmar  2012        -474278            1.069100   \n",
      "167           Cuba  2012         -79999           21.200000   \n",
      "345       Kiribati  2012          -2130           10.746798   \n",
      "211       Ethiopia  2012         -60001            1.482810   \n",
      "\n",
      "     Mobile_Users_Per_100  \n",
      "204              0.000000  \n",
      "275              0.000000  \n",
      "152              0.000000  \n",
      "75               0.000000  \n",
      "213              0.072009  \n",
      "440              0.487205  \n",
      "346              0.802989  \n",
      "212              1.502346  \n",
      "203              1.619011  \n",
      "168              1.754183  \n",
      "202              4.979398  \n",
      "439              7.064027  \n",
      "167             14.920162  \n",
      "345             15.875221  \n",
      "211             22.374519  \n"
     ]
    }
   ],
   "source": [
    "print(bottom_5_mobile)"
   ]
  },
  {
   "cell_type": "code",
   "execution_count": 62,
   "metadata": {
    "collapsed": true
   },
   "outputs": [],
   "source": [
    "df_mobile_2012 = df_combined_2012['Mobile_Users_Per_100']"
   ]
  },
  {
   "cell_type": "code",
   "execution_count": 63,
   "metadata": {},
   "outputs": [
    {
     "data": {
      "text/plain": [
       "<matplotlib.axes._subplots.AxesSubplot at 0x1a14e8dcf8>"
      ]
     },
     "execution_count": 63,
     "metadata": {},
     "output_type": "execute_result"
    },
    {
     "data": {
      "image/png": "[encoded data removed]",
      "text/plain": [
       "<matplotlib.figure.Figure at 0x1a14700860>"
      ]
     },
     "metadata": {},
     "output_type": "display_data"
    }
   ],
   "source": [
    "df_mobile_2012.plot(x = 'Mobile_Users_Per_100', kind = 'hist', title = '2012 Mobile Subscriptions per 100', bins=10)"
   ]
  },
  {
   "cell_type": "code",
   "execution_count": 64,
   "metadata": {},
   "outputs": [
    {
     "data": {
      "text/plain": [
       "count    165.000000\n",
       "mean      98.944102\n",
       "std       39.648529\n",
       "min        4.979398\n",
       "25%       68.779020\n",
       "50%      104.988609\n",
       "75%      124.761817\n",
       "max      187.359558\n",
       "Name: Mobile_Users_Per_100, dtype: float64"
      ]
     },
     "execution_count": 64,
     "metadata": {},
     "output_type": "execute_result"
    }
   ],
   "source": [
    "df_mobile_2012.describe()"
   ]
  },
  {
   "cell_type": "markdown",
   "metadata": {},
   "source": [
    ">It's interesting to see the mode of mobile subscriptions to be slightly over 100 in 2012. When thinking about global mobile subscription rates, I would've predicted the mode below 100. The standard deviation is expectedly large, especially with min/max values of 4-187."
   ]
  },
  {
   "cell_type": "markdown",
   "metadata": {
    "collapsed": true
   },
   "source": [
    ">Adding a bokeh scatter plot comparing showing the (lack of) correlation between the number of mobile subscriptions per 100 and the Internet Users  %."
   ]
  },
  {
   "cell_type": "code",
   "execution_count": 65,
   "metadata": {
    "collapsed": true
   },
   "outputs": [],
   "source": [
    "import bokeh as bk\n",
    "from bokeh.plotting import figure, output_file, show"
   ]
  },
  {
   "cell_type": "code",
   "execution_count": 66,
   "metadata": {
    "collapsed": true
   },
   "outputs": [],
   "source": [
    "p = figure(title = 'Cell Subscription and Internet Users Correlation', title_location = 'above', plot_width=800, plot_height=800)"
   ]
  },
  {
   "cell_type": "code",
   "execution_count": 67,
   "metadata": {
    "collapsed": true
   },
   "outputs": [],
   "source": [
    "p.triangle(df_combined_2012.Internet_Users_Pct, df_combined_2012.Mobile_Users_Per_100, size=10, color=\"olive\", alpha=0.5)\n",
    "p.xaxis[0].axis_label = 'Internet Users %'\n",
    "p.yaxis[0].axis_label = 'Mobile Subscriptions per 100'\n",
    "show(p)"
   ]
  },
  {
   "cell_type": "code",
   "execution_count": null,
   "metadata": {
    "collapsed": true
   },
   "outputs": [],
   "source": []
  }
 ],
 "metadata": {
  "kernelspec": {
   "display_name": "Python 3",
   "language": "python",
   "name": "python3"
  },
  "language_info": {
   "codemirror_mode": {
    "name": "ipython",
    "version": 3
   },
   "file_extension": ".py",
   "mimetype": "text/x-python",
   "name": "python",
   "nbconvert_exporter": "python",
   "pygments_lexer": "ipython3",
   "version": "3.6.2"
  }
 },
 "nbformat": 4,
 "nbformat_minor": 2
}
